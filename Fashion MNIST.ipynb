{
 "cells": [
  {
   "cell_type": "code",
   "execution_count": 1,
   "id": "9e39000b",
   "metadata": {},
   "outputs": [],
   "source": [
    "# importing libraries\n",
    "import tensorflow as tf\n",
    "from tensorflow.keras.models import Sequential\n",
    "import pandas as pd\n",
    "import numpy as np\n",
    "#import matplotlib.pyplot as plt"
   ]
  },
  {
   "cell_type": "code",
   "execution_count": 2,
   "id": "5b926f42",
   "metadata": {},
   "outputs": [],
   "source": [
    "#importing mnist data\n",
    "from tensorflow.keras.datasets import fashion_mnist\n",
    "(x_train, y_train), (x_test, y_test) = fashion_mnist.load_data()\n"
   ]
  },
  {
   "cell_type": "code",
   "execution_count": 3,
   "id": "f69d43a2",
   "metadata": {},
   "outputs": [],
   "source": [
    "#splitting the data into training and testing\n",
    "x_train = x_train.reshape(60000, 28, 28, 1)\n",
    "x_test = x_test.reshape(10000, 28, 28, 1)\n"
   ]
  },
  {
   "cell_type": "code",
   "execution_count": null,
   "id": "2f92396c-236e-4d79-a092-3bdb52873beb",
   "metadata": {},
   "outputs": [],
   "source": [
    "#BUILDING THE CNN MODULE"
   ]
  },
  {
   "cell_type": "code",
   "execution_count": 4,
   "id": "9238e4a9-204f-43ba-a91f-1833cbea51ea",
   "metadata": {},
   "outputs": [],
   "source": [
    "fashionmodel = Sequential()"
   ]
  },
  {
   "cell_type": "code",
   "execution_count": 5,
   "id": "c446b642-dcc8-477b-914b-fcd9d7f02dd0",
   "metadata": {},
   "outputs": [],
   "source": [
    "from tensorflow.keras.layers import Conv2D\n",
    "fashionmodel.add(Conv2D(28, (3, 3), input_shape=(28, 28, 1), activation='relu'))\n",
    "                        "
   ]
  },
  {
   "cell_type": "code",
   "execution_count": 6,
   "id": "3e450e48-da45-4a50-ac1e-bcf51951d4f8",
   "metadata": {},
   "outputs": [],
   "source": [
    "from tensorflow.keras.layers import MaxPooling2D\n",
    "fashionmodel.add(MaxPooling2D(pool_size = (2,2)))\n"
   ]
  },
  {
   "cell_type": "code",
   "execution_count": 7,
   "id": "90f66d5e-ea18-4907-9336-9c3bc92e42bd",
   "metadata": {},
   "outputs": [],
   "source": [
    "from tensorflow.keras.layers import Flatten\n",
    "fashionmodel.add(Flatten())"
   ]
  },
  {
   "cell_type": "code",
   "execution_count": 8,
   "id": "c64344bb-5f0a-4567-93c4-322e4309822e",
   "metadata": {},
   "outputs": [],
   "source": [
    "from tensorflow.keras.layers import Dense\n",
    "fashionmodel.add(Dense(units = 128, activation = 'relu'))"
   ]
  },
  {
   "cell_type": "code",
   "execution_count": 9,
   "id": "4cff1627-9096-426d-8420-ba1d64cba8f3",
   "metadata": {},
   "outputs": [],
   "source": [
    "fashionmodel.add(Dense(units = 10, activation = 'softmax'))\n"
   ]
  },
  {
   "cell_type": "code",
   "execution_count": 10,
   "id": "ca84c896-c75b-4aaf-b50a-8934b22120a6",
   "metadata": {},
   "outputs": [],
   "source": [
    "fashionmodel.compile(optimizer = 'adam', loss = 'sparse_categorical_crossentropy',metrics = ['accuracy'])"
   ]
  },
  {
   "cell_type": "code",
   "execution_count": 11,
   "id": "12e47067-0fc1-424a-a962-ca88b792261b",
   "metadata": {},
   "outputs": [
    {
     "name": "stdout",
     "output_type": "stream",
     "text": [
      "Epoch 1/10\n",
      "1875/1875 [==============================] - 246s 131ms/step - loss: 1.1551 - accuracy: 0.8356\n",
      "Epoch 2/10\n",
      "1875/1875 [==============================] - 196s 104ms/step - loss: 0.3114 - accuracy: 0.8883\n",
      "Epoch 3/10\n",
      "1875/1875 [==============================] - 237s 127ms/step - loss: 0.2691 - accuracy: 0.9030\n",
      "Epoch 4/10\n",
      "1875/1875 [==============================] - 285s 152ms/step - loss: 0.2475 - accuracy: 0.9095\n",
      "Epoch 5/10\n",
      "1875/1875 [==============================] - 241s 128ms/step - loss: 0.2253 - accuracy: 0.9173\n",
      "Epoch 6/10\n",
      "1875/1875 [==============================] - 206s 110ms/step - loss: 0.2062 - accuracy: 0.9236\n",
      "Epoch 7/10\n",
      "1875/1875 [==============================] - 219s 117ms/step - loss: 0.1935 - accuracy: 0.9284\n",
      "Epoch 8/10\n",
      "1875/1875 [==============================] - 138s 73ms/step - loss: 0.1745 - accuracy: 0.9349\n",
      "Epoch 9/10\n",
      "1875/1875 [==============================] - 139s 74ms/step - loss: 0.1626 - accuracy: 0.9416\n",
      "Epoch 10/10\n",
      "1875/1875 [==============================] - 162s 87ms/step - loss: 0.1499 - accuracy: 0.9447\n"
     ]
    },
    {
     "data": {
      "text/plain": [
       "<tensorflow.python.keras.callbacks.History at 0x1d8f8933ca0>"
      ]
     },
     "execution_count": 11,
     "metadata": {},
     "output_type": "execute_result"
    }
   ],
   "source": [
    "#training the model\n",
    "fashionmodel.fit(x_train, y_train, epochs=5)"
   ]
  },
  {
   "cell_type": "code",
   "execution_count": 12,
   "id": "d0dc4f81-8b10-4fc2-9556-1c7e248d0df6",
   "metadata": {},
   "outputs": [
    {
     "name": "stdout",
     "output_type": "stream",
     "text": [
      "313/313 [==============================] - 23s 73ms/step - loss: 0.4237 - accuracy: 0.8956\n"
     ]
    }
   ],
   "source": [
    "#evaluating the model using test set\n",
    "loss, accuracy = fashionmodel.evaluate(x_test,y_test)"
   ]
  },
  {
   "cell_type": "code",
   "execution_count": null,
   "id": "ac9a71c3-6f57-4400-b097-b3015d5bfa19",
   "metadata": {},
   "outputs": [],
   "source": []
  }
 ],
 "metadata": {
  "kernelspec": {
   "display_name": "Python 3 (ipykernel)",
   "language": "python",
   "name": "python3"
  },
  "language_info": {
   "codemirror_mode": {
    "name": "ipython",
    "version": 3
   },
   "file_extension": ".py",
   "mimetype": "text/x-python",
   "name": "python",
   "nbconvert_exporter": "python",
   "pygments_lexer": "ipython3",
   "version": "3.11.5"
  }
 },
 "nbformat": 4,
 "nbformat_minor": 5
}
